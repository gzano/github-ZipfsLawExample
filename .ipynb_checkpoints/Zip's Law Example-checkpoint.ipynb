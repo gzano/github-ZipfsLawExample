{
 "cells": [
  {
   "cell_type": "code",
   "execution_count": 1,
   "metadata": {
    "collapsed": false
   },
   "outputs": [],
   "source": [
    "from bs4 import BeautifulSoup\n",
    "from urllib import urlopen"
   ]
  },
  {
   "cell_type": "code",
   "execution_count": 2,
   "metadata": {
    "collapsed": false
   },
   "outputs": [],
   "source": [
    "AntarcticMysteryURL = \"http://www.gutenberg.org/files/10339/10339-h/10339-h.htm\"\n",
    "AntarcticMysteryHtml = urlopen(AntarcticMysteryURL).read()  \n",
    "AntarcticMysterySoup = BeautifulSoup(AntarcticMysteryHtml, 'html.parser')\n",
    "\n",
    "# removing styles\n",
    "for script in AntarcticMysterySoup([\"script\", \"style\"]):\n",
    "    script.extract()\n",
    "\n",
    "AntarcticMysteryText = AntarcticMysterySoup.get_text()"
   ]
  },
  {
   "cell_type": "code",
   "execution_count": 3,
   "metadata": {
    "collapsed": false
   },
   "outputs": [],
   "source": [
    "# removing punctuation using a regular expression\n",
    "import re\n",
    "AntarcticMysteryText = re.sub(r'[^\\w\\s]','',AntarcticMysteryText)"
   ]
  },
  {
   "cell_type": "code",
   "execution_count": 4,
   "metadata": {
    "collapsed": false
   },
   "outputs": [
    {
     "data": {
      "text/plain": [
       "'an antarctic mystery by jules verne the project gutenberg ebook of an antarctic mystery by jules verne this ebook is for the use of anyone anywhere at no cost and with almost no restrictions whatsoeve'"
      ]
     },
     "execution_count": 4,
     "metadata": {},
     "output_type": "execute_result"
    }
   ],
   "source": [
    "# removing all white space, this will convert the text to a big sentence\n",
    "AntarcticMysteryText = ' '.join(AntarcticMysteryText.split())\n",
    "\n",
    "# doing a type(AntarcticMysteryText) will give unicode, I dont want unicode, \n",
    "# this causes problems with charecters appearing at random\n",
    "# I am converting to ansi\n",
    "\n",
    "AntarcticMysteryText = AntarcticMysteryText.encode('ascii','ignore')\n",
    "\n",
    "# converting all case to lower\n",
    "AntarcticMysteryText = AntarcticMysteryText.lower()\n",
    "\n",
    "# My variable is a massive string\n",
    "AntarcticMysteryText[:200]"
   ]
  },
  {
   "cell_type": "code",
   "execution_count": 5,
   "metadata": {
    "collapsed": false
   },
   "outputs": [],
   "source": [
    "# Splitting the big sentence to a list of words\n",
    "AntarcticMysteryWordsList = AntarcticMysteryText.split()"
   ]
  },
  {
   "cell_type": "code",
   "execution_count": 6,
   "metadata": {
    "collapsed": false
   },
   "outputs": [
    {
     "data": {
      "text/plain": [
       "list"
      ]
     },
     "execution_count": 6,
     "metadata": {},
     "output_type": "execute_result"
    }
   ],
   "source": [
    "# verifying that it is a list\n",
    "type(AntarcticMysteryWordsList)"
   ]
  },
  {
   "cell_type": "code",
   "execution_count": 7,
   "metadata": {
    "collapsed": false
   },
   "outputs": [
    {
     "name": "stdout",
     "output_type": "stream",
     "text": [
      "['an', 'antarctic', 'mystery', 'by', 'jules', 'verne', 'the', 'project', 'gutenberg', 'ebook']\n"
     ]
    }
   ],
   "source": [
    "print AntarcticMysteryWordsList[:10]"
   ]
  },
  {
   "cell_type": "code",
   "execution_count": 8,
   "metadata": {
    "collapsed": false
   },
   "outputs": [],
   "source": [
    "# Lets go into using pandas\n",
    "import pandas as pd\n",
    "import numpy as np"
   ]
  },
  {
   "cell_type": "code",
   "execution_count": 9,
   "metadata": {
    "collapsed": false
   },
   "outputs": [],
   "source": [
    "import pandas as pd\n",
    "import numpy as np\n",
    "from pandas import DataFrame as df"
   ]
  },
  {
   "cell_type": "code",
   "execution_count": 10,
   "metadata": {
    "collapsed": false
   },
   "outputs": [],
   "source": [
    "# Pandas includes a data format called the series,\n",
    "# which is a great tool for doing some quick data analysis\n",
    "AntarcticMysteryWordsSeries = pd.Series(AntarcticMysteryWordsList)"
   ]
  },
  {
   "cell_type": "code",
   "execution_count": 11,
   "metadata": {
    "collapsed": false
   },
   "outputs": [
    {
     "name": "stdout",
     "output_type": "stream",
     "text": [
      "<class 'pandas.core.series.Series'>\n"
     ]
    }
   ],
   "source": [
    "print type(AntarcticMysteryWordsSeries)"
   ]
  },
  {
   "cell_type": "code",
   "execution_count": 26,
   "metadata": {
    "collapsed": false
   },
   "outputs": [],
   "source": [
    "# Pandas is quite handy, it saves us from writting many funcitons\n",
    "# here's the count function which runs upon the unique entries, \n",
    "# ... Frequency\n",
    "AntarcticMysteryWordFrequency = AntarcticMysteryWordsSeries.value_counts()"
   ]
  },
  {
   "cell_type": "code",
   "execution_count": 27,
   "metadata": {
    "collapsed": false
   },
   "outputs": [
    {
     "name": "stdout",
     "output_type": "stream",
     "text": [
      "the     6489\n",
      "of      3117\n",
      "to      2388\n",
      "and     2153\n",
      "a       1470\n",
      "in      1329\n",
      "was     1263\n",
      "i       1146\n",
      "that    1087\n",
      "it       886\n",
      "dtype: int64\n"
     ]
    }
   ],
   "source": [
    "print AntarcticMysteryWordFrequency[:10]"
   ]
  },
  {
   "cell_type": "code",
   "execution_count": 28,
   "metadata": {
    "collapsed": false
   },
   "outputs": [],
   "source": [
    "# the value_counts comes allready sorted! So.. Sorted!\n",
    "# Lets make a dataframe with it .. \n",
    "# for the only reason that I will an index for my graph later"
   ]
  },
  {
   "cell_type": "code",
   "execution_count": 29,
   "metadata": {
    "collapsed": false
   },
   "outputs": [
    {
     "data": {
      "text/plain": [
       "pandas.core.series.Series"
      ]
     },
     "execution_count": 29,
     "metadata": {},
     "output_type": "execute_result"
    }
   ],
   "source": [
    "type(AntarcticMysteryWordFrequency)"
   ]
  },
  {
   "cell_type": "code",
   "execution_count": 46,
   "metadata": {
    "collapsed": false
   },
   "outputs": [
    {
     "data": {
      "text/html": [
       "<div>\n",
       "<table border=\"1\" class=\"dataframe\">\n",
       "  <thead>\n",
       "    <tr style=\"text-align: right;\">\n",
       "      <th></th>\n",
       "      <th>Frequency</th>\n",
       "      <th>Rank</th>\n",
       "    </tr>\n",
       "  </thead>\n",
       "  <tbody>\n",
       "    <tr>\n",
       "      <th>the</th>\n",
       "      <td>6489</td>\n",
       "      <td>1</td>\n",
       "    </tr>\n",
       "    <tr>\n",
       "      <th>of</th>\n",
       "      <td>3117</td>\n",
       "      <td>2</td>\n",
       "    </tr>\n",
       "    <tr>\n",
       "      <th>to</th>\n",
       "      <td>2388</td>\n",
       "      <td>3</td>\n",
       "    </tr>\n",
       "    <tr>\n",
       "      <th>and</th>\n",
       "      <td>2153</td>\n",
       "      <td>4</td>\n",
       "    </tr>\n",
       "    <tr>\n",
       "      <th>a</th>\n",
       "      <td>1470</td>\n",
       "      <td>5</td>\n",
       "    </tr>\n",
       "    <tr>\n",
       "      <th>in</th>\n",
       "      <td>1329</td>\n",
       "      <td>6</td>\n",
       "    </tr>\n",
       "    <tr>\n",
       "      <th>was</th>\n",
       "      <td>1263</td>\n",
       "      <td>7</td>\n",
       "    </tr>\n",
       "    <tr>\n",
       "      <th>i</th>\n",
       "      <td>1146</td>\n",
       "      <td>8</td>\n",
       "    </tr>\n",
       "    <tr>\n",
       "      <th>that</th>\n",
       "      <td>1087</td>\n",
       "      <td>9</td>\n",
       "    </tr>\n",
       "    <tr>\n",
       "      <th>it</th>\n",
       "      <td>886</td>\n",
       "      <td>10</td>\n",
       "    </tr>\n",
       "  </tbody>\n",
       "</table>\n",
       "</div>"
      ],
      "text/plain": [
       "      Frequency  Rank\n",
       "the        6489     1\n",
       "of         3117     2\n",
       "to         2388     3\n",
       "and        2153     4\n",
       "a          1470     5\n",
       "in         1329     6\n",
       "was        1263     7\n",
       "i          1146     8\n",
       "that       1087     9\n",
       "it          886    10"
      ]
     },
     "execution_count": 46,
     "metadata": {},
     "output_type": "execute_result"
    }
   ],
   "source": [
    "AntarcticMysteryWordFrequencyDF = AntarcticMysteryWordFrequency.to_frame()\n",
    "AntarcticMysteryWordFrequencyDF.columns = ['Frequency']\n",
    "AntarcticMysteryWordFrequencyDF['Rank'] = AntarcticMysteryWordFrequencyDF.rank(ascending=False)\n",
    "AntarcticMysteryWordFrequencyDF[:10]"
   ]
  },
  {
   "cell_type": "code",
   "execution_count": 33,
   "metadata": {
    "collapsed": false
   },
   "outputs": [
    {
     "data": {
      "text/plain": [
       "pandas.core.frame.DataFrame"
      ]
     },
     "execution_count": 33,
     "metadata": {},
     "output_type": "execute_result"
    }
   ],
   "source": [
    "type(AntarcticMysteryWordFrequencyDF)"
   ]
  },
  {
   "cell_type": "code",
   "execution_count": 48,
   "metadata": {
    "collapsed": false
   },
   "outputs": [
    {
     "name": "stdout",
     "output_type": "stream",
     "text": [
      "Axes(0.125,0.1;0.775x0.8)\n"
     ]
    }
   ],
   "source": [
    "# Let's plot!\n",
    "AntarcticMysteryWordFrequencyDF.plot('Frequency','Rank')"
   ]
  },
  {
   "cell_type": "code",
   "execution_count": null,
   "metadata": {
    "collapsed": false
   },
   "outputs": [],
   "source": []
  },
  {
   "cell_type": "code",
   "execution_count": null,
   "metadata": {
    "collapsed": false
   },
   "outputs": [],
   "source": []
  },
  {
   "cell_type": "code",
   "execution_count": null,
   "metadata": {
    "collapsed": false
   },
   "outputs": [],
   "source": []
  },
  {
   "cell_type": "code",
   "execution_count": null,
   "metadata": {
    "collapsed": true
   },
   "outputs": [],
   "source": []
  }
 ],
 "metadata": {
  "kernelspec": {
   "display_name": "Python 2",
   "language": "python",
   "name": "python2"
  },
  "language_info": {
   "codemirror_mode": {
    "name": "ipython",
    "version": 2
   },
   "file_extension": ".py",
   "mimetype": "text/x-python",
   "name": "python",
   "nbconvert_exporter": "python",
   "pygments_lexer": "ipython2",
   "version": "2.7.10"
  }
 },
 "nbformat": 4,
 "nbformat_minor": 0
}
