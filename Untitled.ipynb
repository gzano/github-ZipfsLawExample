{
 "cells": [
  {
   "cell_type": "code",
   "execution_count": 11,
   "metadata": {
    "collapsed": false
   },
   "outputs": [],
   "source": [
    "from bs4 import BeautifulSoup\n",
    "from urllib import urlopen"
   ]
  },
  {
   "cell_type": "code",
   "execution_count": 32,
   "metadata": {
    "collapsed": false
   },
   "outputs": [],
   "source": [
    "AntarcticMysteryURL = \"http://www.gutenberg.org/files/10339/10339-h/10339-h.htm\"\n",
    "AntarcticMysteryHtml = urlopen(AntarcticMysteryURL).read()  \n",
    "AntarcticMysterySoup = BeautifulSoup(AntarcticMysteryHtml, 'html.parser')\n",
    "\n",
    "# removing styles\n",
    "for script in AntarcticMysterySoup([\"script\", \"style\",\"p\"]):\n",
    "    script.extract()\n",
    "\n",
    "AntarcticMysteryText = AntarcticMysterySoup.get_text()"
   ]
  },
  {
   "cell_type": "code",
   "execution_count": 37,
   "metadata": {
    "collapsed": false
   },
   "outputs": [],
   "source": [
    "# removing punctuation using regular a expression\n",
    "import re\n",
    "AntarcticMysteryText = re.sub(r'[^\\w\\s]','',AntarcticMysteryText)"
   ]
  },
  {
   "cell_type": "code",
   "execution_count": 46,
   "metadata": {
    "collapsed": false
   },
   "outputs": [
    {
     "data": {
      "text/plain": [
       "'An Antarctic Mystery by Jules Verne The Project Gu'"
      ]
     },
     "execution_count": 46,
     "metadata": {},
     "output_type": "execute_result"
    }
   ],
   "source": [
    "# removing all white space, this will convert the text to a big sentence\n",
    "AntarcticMysteryText = ' '.join(AntarcticMysteryText.split())\n",
    "\n",
    "# doing a type(AntarcticMysteryText) will give unicode, I dont want unicode, \n",
    "# this causes problems with charecters appearing at random\n",
    "# I am converting to ansi\n",
    "\n",
    "AntarcticMysteryText = AntarcticMysteryText.encode('ascii','ignore')\n",
    "\n",
    "AntarcticMysteryText[:50]"
   ]
  },
  {
   "cell_type": "code",
   "execution_count": null,
   "metadata": {
    "collapsed": false
   },
   "outputs": [],
   "source": []
  },
  {
   "cell_type": "code",
   "execution_count": null,
   "metadata": {
    "collapsed": true
   },
   "outputs": [],
   "source": []
  }
 ],
 "metadata": {
  "kernelspec": {
   "display_name": "Python 2",
   "language": "python",
   "name": "python2"
  },
  "language_info": {
   "codemirror_mode": {
    "name": "ipython",
    "version": 2
   },
   "file_extension": ".py",
   "mimetype": "text/x-python",
   "name": "python",
   "nbconvert_exporter": "python",
   "pygments_lexer": "ipython2",
   "version": "2.7.10"
  }
 },
 "nbformat": 4,
 "nbformat_minor": 0
}
