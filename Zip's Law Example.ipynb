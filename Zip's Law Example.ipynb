{
 "cells": [
  {
   "cell_type": "code",
   "execution_count": 1,
   "metadata": {
    "collapsed": false
   },
   "outputs": [],
   "source": [
    "from bs4 import BeautifulSoup\n",
    "from urllib import urlopen"
   ]
  },
  {
   "cell_type": "code",
   "execution_count": 2,
   "metadata": {
    "collapsed": false
   },
   "outputs": [],
   "source": [
    "AntarcticMysteryURL = \"http://www.gutenberg.org/files/10339/10339-h/10339-h.htm\"\n",
    "AntarcticMysteryHtml = urlopen(AntarcticMysteryURL).read()  \n",
    "AntarcticMysterySoup = BeautifulSoup(AntarcticMysteryHtml, 'html.parser')\n",
    "\n",
    "# removing styles\n",
    "for script in AntarcticMysterySoup([\"script\", \"style\"]):\n",
    "    script.extract()\n",
    "\n",
    "AntarcticMysteryText = AntarcticMysterySoup.get_text()"
   ]
  },
  {
   "cell_type": "code",
   "execution_count": 3,
   "metadata": {
    "collapsed": false
   },
   "outputs": [],
   "source": [
    "# removing punctuation using a regular expression\n",
    "import re\n",
    "AntarcticMysteryText = re.sub(r'[^\\w\\s]','',AntarcticMysteryText)"
   ]
  },
  {
   "cell_type": "code",
   "execution_count": 4,
   "metadata": {
    "collapsed": false
   },
   "outputs": [
    {
     "data": {
      "text/plain": [
       "'an antarctic mystery by jules verne the project gutenberg ebook of an antarctic mystery by jules verne this ebook is for the use of anyone anywhere at no cost and with almost no restrictions whatsoeve'"
      ]
     },
     "execution_count": 4,
     "metadata": {},
     "output_type": "execute_result"
    }
   ],
   "source": [
    "# removing all white space, this will convert the text to a big sentence\n",
    "AntarcticMysteryText = ' '.join(AntarcticMysteryText.split())\n",
    "\n",
    "# doing a type(AntarcticMysteryText) will give unicode, I dont want unicode, \n",
    "# this causes problems with charecters appearing at random\n",
    "# I am converting to ansi\n",
    "\n",
    "AntarcticMysteryText = AntarcticMysteryText.encode('ascii','ignore')\n",
    "\n",
    "# converting all case to lower\n",
    "AntarcticMysteryText = AntarcticMysteryText.lower()\n",
    "\n",
    "# My variable is a massive string\n",
    "AntarcticMysteryText[:200]"
   ]
  },
  {
   "cell_type": "code",
   "execution_count": 189,
   "metadata": {
    "collapsed": false
   },
   "outputs": [],
   "source": [
    "# Splitting the big sentence to a list of words\n",
    "AntarcticMysteryWordsList = AntarcticMysteryText.split()"
   ]
  },
  {
   "cell_type": "code",
   "execution_count": 190,
   "metadata": {
    "collapsed": false
   },
   "outputs": [
    {
     "data": {
      "text/plain": [
       "list"
      ]
     },
     "execution_count": 190,
     "metadata": {},
     "output_type": "execute_result"
    }
   ],
   "source": [
    "# verifying that it is a list\n",
    "type(AntarcticMysteryWordsList)"
   ]
  },
  {
   "cell_type": "code",
   "execution_count": 191,
   "metadata": {
    "collapsed": false
   },
   "outputs": [
    {
     "name": "stdout",
     "output_type": "stream",
     "text": [
      "['an', 'antarctic', 'mystery', 'by', 'jules', 'verne', 'the', 'project', 'gutenberg', 'ebook']\n"
     ]
    }
   ],
   "source": [
    "print AntarcticMysteryWordsList[:10]"
   ]
  },
  {
   "cell_type": "code",
   "execution_count": 192,
   "metadata": {
    "collapsed": false
   },
   "outputs": [],
   "source": [
    "# Lets go into using pandas\n",
    "import pandas as pd\n",
    "import numpy as np"
   ]
  },
  {
   "cell_type": "code",
   "execution_count": 193,
   "metadata": {
    "collapsed": false
   },
   "outputs": [],
   "source": [
    "import pandas as pd\n",
    "import numpy as np\n",
    "from pandas import DataFrame as df"
   ]
  },
  {
   "cell_type": "code",
   "execution_count": 194,
   "metadata": {
    "collapsed": false
   },
   "outputs": [],
   "source": [
    "# Pandas includes a data format called the series,\n",
    "# which is a great tool for doing some quick data analysis\n",
    "AntarcticMysteryWordsSeries = pd.Series(AntarcticMysteryWordsList)"
   ]
  },
  {
   "cell_type": "code",
   "execution_count": 195,
   "metadata": {
    "collapsed": false
   },
   "outputs": [
    {
     "name": "stdout",
     "output_type": "stream",
     "text": [
      "<class 'pandas.core.series.Series'>\n"
     ]
    }
   ],
   "source": [
    "print type(AntarcticMysteryWordsSeries)"
   ]
  },
  {
   "cell_type": "code",
   "execution_count": 196,
   "metadata": {
    "collapsed": false
   },
   "outputs": [],
   "source": [
    "# Pandas is quite handy, it saves us from writting many funcitons\n",
    "# here's the count function which runs upon the unique entries, \n",
    "# ... Frequency\n",
    "AntarcticMysteryWordFrequency = AntarcticMysteryWordsSeries.value_counts()"
   ]
  },
  {
   "cell_type": "code",
   "execution_count": 197,
   "metadata": {
    "collapsed": false
   },
   "outputs": [
    {
     "name": "stdout",
     "output_type": "stream",
     "text": [
      "     Frequency  Rank  Actual_Percent  Expected_Percent\n",
      "the       6489     1        0.078626          0.039313\n",
      "of        3117     2        0.037768          0.026209\n",
      "to        2388     3        0.028935          0.019656\n",
      "and       2153     4        0.026087          0.015725\n",
      "a         1470     5        0.017812          0.013104\n",
      "             Frequency    Rank  Actual_Percent  Expected_Percent\n",
      "tipsy                1  5750.5        0.000012          0.000014\n",
      "nest                 1  5750.5        0.000012          0.000014\n",
      "drives               1  5750.5        0.000012          0.000014\n",
      "corporation          1  5750.5        0.000012          0.000014\n",
      "hoar                 1  5750.5        0.000012          0.000014\n"
     ]
    }
   ],
   "source": [
    "print AntarcticMysteryWordFrequencyDF[:5]\n",
    "print AntarcticMysteryWordFrequencyDF[-5:]"
   ]
  },
  {
   "cell_type": "code",
   "execution_count": 198,
   "metadata": {
    "collapsed": false
   },
   "outputs": [],
   "source": [
    "# the value_counts comes allready sorted! So.. Sorted!\n",
    "# Lets make a dataframe with it .. \n",
    "# for the only reason that I will an index for my graph later"
   ]
  },
  {
   "cell_type": "code",
   "execution_count": 199,
   "metadata": {
    "collapsed": false
   },
   "outputs": [
    {
     "data": {
      "text/plain": [
       "pandas.core.series.Series"
      ]
     },
     "execution_count": 199,
     "metadata": {},
     "output_type": "execute_result"
    }
   ],
   "source": [
    "type(AntarcticMysteryWordFrequency)"
   ]
  },
  {
   "cell_type": "code",
   "execution_count": 200,
   "metadata": {
    "collapsed": false
   },
   "outputs": [
    {
     "name": "stdout",
     "output_type": "stream",
     "text": [
      "     Frequency  Rank\n",
      "the       6489     1\n",
      "of        3117     2\n",
      "to        2388     3\n",
      "and       2153     4\n",
      "a         1470     5\n",
      "             Frequency    Rank\n",
      "tipsy                1  5750.5\n",
      "nest                 1  5750.5\n",
      "drives               1  5750.5\n",
      "corporation          1  5750.5\n",
      "hoar                 1  5750.5\n"
     ]
    }
   ],
   "source": [
    "AntarcticMysteryWordFrequencyDF = AntarcticMysteryWordFrequency.to_frame()\n",
    "AntarcticMysteryWordFrequencyDF.columns = ['Frequency']\n",
    "AntarcticMysteryWordFrequencyDF['Rank'] = AntarcticMysteryWordFrequencyDF.rank(ascending=False)\n",
    "AntarcticMysteryWordFrequencyDF.set_index(['Rank'],append=True)\n",
    "print AntarcticMysteryWordFrequencyDF[:5]\n",
    "print AntarcticMysteryWordFrequencyDF[-5:]"
   ]
  },
  {
   "cell_type": "code",
   "execution_count": 201,
   "metadata": {
    "collapsed": false
   },
   "outputs": [
    {
     "name": "stdout",
     "output_type": "stream",
     "text": [
      "<class 'pandas.core.frame.DataFrame'>\n",
      "Index: 7558 entries, the to hoar\n",
      "Data columns (total 2 columns):\n",
      "Frequency    7558 non-null int64\n",
      "Rank         7558 non-null float64\n",
      "dtypes: float64(1), int64(1)\n",
      "memory usage: 177.1+ KB\n",
      "None\n"
     ]
    }
   ],
   "source": [
    "print AntarcticMysteryWordFrequencyDF.info()"
   ]
  },
  {
   "cell_type": "code",
   "execution_count": 202,
   "metadata": {
    "collapsed": false
   },
   "outputs": [
    {
     "data": {
      "text/plain": [
       "<matplotlib.axes._subplots.AxesSubplot at 0x118acbd50>"
      ]
     },
     "execution_count": 202,
     "metadata": {},
     "output_type": "execute_result"
    },
    {
     "data": {
      "image/png": "[encoded data removed]",
      "text/plain": [
       "<matplotlib.figure.Figure at 0x118ef3250>"
      ]
     },
     "metadata": {},
     "output_type": "display_data"
    }
   ],
   "source": [
    "# Let's plot!\n",
    "%matplotlib inline\n",
    "AntarcticMysteryWordFrequencyDF.plot('Rank','Frequency',loglog=True)"
   ]
  },
  {
   "cell_type": "code",
   "execution_count": 203,
   "metadata": {
    "collapsed": false
   },
   "outputs": [],
   "source": [
    "# ok, this graph is very similar to this on from wikipedia: https://en.wikipedia.org/wiki/Zipf%27s_law#/media/File:Zipf_30wiki_en_labels.png"
   ]
  },
  {
   "cell_type": "code",
   "execution_count": 204,
   "metadata": {
    "collapsed": false
   },
   "outputs": [],
   "source": [
    "# Lets talk tables and dataframes\n",
    "AntarcticMysteryWordFrequencyDF['Actual_Instances'] = AntarcticMysteryWordFrequencyDF['Frequency']/len(AntarcticMysteryWordsList)"
   ]
  },
  {
   "cell_type": "code",
   "execution_count": null,
   "metadata": {
    "collapsed": false
   },
   "outputs": [],
   "source": []
  },
  {
   "cell_type": "code",
   "execution_count": null,
   "metadata": {
    "collapsed": false
   },
   "outputs": [],
   "source": []
  },
  {
   "cell_type": "code",
   "execution_count": 205,
   "metadata": {
    "collapsed": true
   },
   "outputs": [],
   "source": [
    "# Inserting one more column\n",
    "AntarcticMysteryWordFrequencyDF['Expected_Instances'] = 1"
   ]
  },
  {
   "cell_type": "code",
   "execution_count": 206,
   "metadata": {
    "collapsed": false
   },
   "outputs": [
    {
     "name": "stdout",
     "output_type": "stream",
     "text": [
      "     Frequency  Rank  Actual_Instances  Expected_Instances\n",
      "the       6489     1          0.078626                   1\n",
      "of        3117     2          0.037768                   1\n",
      "to        2388     3          0.028935                   1\n",
      "and       2153     4          0.026087                   1\n",
      "a         1470     5          0.017812                   1\n",
      "             Frequency    Rank  Actual_Instances  Expected_Instances\n",
      "tipsy                1  5750.5          0.000012                   1\n",
      "nest                 1  5750.5          0.000012                   1\n",
      "drives               1  5750.5          0.000012                   1\n",
      "corporation          1  5750.5          0.000012                   1\n",
      "hoar                 1  5750.5          0.000012                   1\n"
     ]
    }
   ],
   "source": [
    "print AntarcticMysteryWordFrequencyDF[:5]\n",
    "print AntarcticMysteryWordFrequencyDF[-5:]"
   ]
  },
  {
   "cell_type": "code",
   "execution_count": null,
   "metadata": {
    "collapsed": false
   },
   "outputs": [],
   "source": []
  },
  {
   "cell_type": "code",
   "execution_count": 207,
   "metadata": {
    "collapsed": false
   },
   "outputs": [],
   "source": [
    "Starting_Value = AntarcticMysteryWordFrequencyDF.iloc[0] ['Actual_Instances']\n"
   ]
  },
  {
   "cell_type": "code",
   "execution_count": 228,
   "metadata": {
    "collapsed": false
   },
   "outputs": [
    {
     "data": {
      "text/plain": [
       "0.078625954198473277"
      ]
     },
     "execution_count": 228,
     "metadata": {},
     "output_type": "execute_result"
    }
   ],
   "source": [
    "Starting_Value"
   ]
  },
  {
   "cell_type": "code",
   "execution_count": 229,
   "metadata": {
    "collapsed": false
   },
   "outputs": [],
   "source": [
    "# Setting the starting value\n",
    "AntarcticMysteryWordFrequencyDF.ix['the','Expected_Instances'] = Starting_Value"
   ]
  },
  {
   "cell_type": "code",
   "execution_count": null,
   "metadata": {
    "collapsed": false
   },
   "outputs": [],
   "source": []
  },
  {
   "cell_type": "code",
   "execution_count": 235,
   "metadata": {
    "collapsed": false
   },
   "outputs": [],
   "source": [
    "# there must be a more clever way to do this:\n",
    "    \n",
    "for index, row in AntarcticMysteryWordFrequencyDF.iterrows():\n",
    "    if row['Rank'] >1 : \n",
    "        v= Starting_Value/ (row['Rank'])\n",
    "        AntarcticMysteryWordFrequencyDF.loc[index,'Expected_Instances'] = v"
   ]
  },
  {
   "cell_type": "code",
   "execution_count": 236,
   "metadata": {
    "collapsed": false
   },
   "outputs": [
    {
     "name": "stdout",
     "output_type": "stream",
     "text": [
      "      Frequency  Rank  Actual_Instances  Expected_Instances\n",
      "the        6489     1          0.078626            0.078626\n",
      "of         3117     2          0.037768            0.039313\n",
      "to         2388     3          0.028935            0.026209\n",
      "and        2153     4          0.026087            0.019656\n",
      "a          1470     5          0.017812            0.015725\n",
      "in         1329     6          0.016103            0.013104\n",
      "was        1263     7          0.015304            0.011232\n",
      "i          1146     8          0.013886            0.009828\n",
      "that       1087     9          0.013171            0.008736\n",
      "it          886    10          0.010735            0.007863\n",
      "             Frequency    Rank  Actual_Instances  Expected_Instances\n",
      "freshen              1  5750.5          0.000012            0.000014\n",
      "barrenness           1  5750.5          0.000012            0.000014\n",
      "foolish              1  5750.5          0.000012            0.000014\n",
      "tribes               1  5750.5          0.000012            0.000014\n",
      "unshipping           1  5750.5          0.000012            0.000014\n",
      "tipsy                1  5750.5          0.000012            0.000014\n",
      "nest                 1  5750.5          0.000012            0.000014\n",
      "drives               1  5750.5          0.000012            0.000014\n",
      "corporation          1  5750.5          0.000012            0.000014\n",
      "hoar                 1  5750.5          0.000012            0.000014\n"
     ]
    }
   ],
   "source": [
    "print AntarcticMysteryWordFrequencyDF[:10]\n",
    "print AntarcticMysteryWordFrequencyDF[-10:]\n"
   ]
  },
  {
   "cell_type": "code",
   "execution_count": 237,
   "metadata": {
    "collapsed": false
   },
   "outputs": [
    {
     "data": {
      "text/plain": [
       "<matplotlib.axes._subplots.AxesSubplot at 0x11ab9d2d0>"
      ]
     },
     "execution_count": 237,
     "metadata": {},
     "output_type": "execute_result"
    },
    {
     "data": {
      "image/png": "[encoded data removed]",
      "text/plain": [
       "<matplotlib.figure.Figure at 0x11ad936d0>"
      ]
     },
     "metadata": {},
     "output_type": "display_data"
    }
   ],
   "source": [
    "%matplotlib inline\n",
    "AntarcticMysteryWordFrequencyDF.plot('Rank',['Actual_Instances','Expected_Instances'],loglog=True)"
   ]
  },
  {
   "cell_type": "code",
   "execution_count": null,
   "metadata": {
    "collapsed": true
   },
   "outputs": [],
   "source": [
    "# Quite close huh?"
   ]
  },
  {
   "cell_type": "code",
   "execution_count": 245,
   "metadata": {
    "collapsed": false
   },
   "outputs": [],
   "source": [
    "ToLearn =AntarcticMysteryWordFrequencyDF['Actual_Instances'][:1000]"
   ]
  },
  {
   "cell_type": "code",
   "execution_count": 247,
   "metadata": {
    "collapsed": false
   },
   "outputs": [
    {
     "name": "stdout",
     "output_type": "stream",
     "text": [
      "0.82705682782\n"
     ]
    }
   ],
   "source": [
    "print ToLearn.sum()"
   ]
  },
  {
   "cell_type": "code",
   "execution_count": null,
   "metadata": {
    "collapsed": true
   },
   "outputs": [],
   "source": []
  }
 ],
 "metadata": {
  "kernelspec": {
   "display_name": "Python 2",
   "language": "python",
   "name": "python2"
  },
  "language_info": {
   "codemirror_mode": {
    "name": "ipython",
    "version": 2
   },
   "file_extension": ".py",
   "mimetype": "text/x-python",
   "name": "python",
   "nbconvert_exporter": "python",
   "pygments_lexer": "ipython2",
   "version": "2.7.10"
  }
 },
 "nbformat": 4,
 "nbformat_minor": 0
}
